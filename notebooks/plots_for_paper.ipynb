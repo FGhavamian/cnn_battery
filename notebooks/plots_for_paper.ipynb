{
 "cells": [
  {
   "cell_type": "code",
   "execution_count": 1,
   "metadata": {
    "ExecuteTime": {
     "end_time": "2019-11-07T19:29:55.283405Z",
     "start_time": "2019-11-07T19:29:55.241405Z"
    }
   },
   "outputs": [],
   "source": [
    "%load_ext autoreload"
   ]
  },
  {
   "cell_type": "code",
   "execution_count": 2,
   "metadata": {
    "ExecuteTime": {
     "end_time": "2019-11-07T19:29:55.499406Z",
     "start_time": "2019-11-07T19:29:55.494407Z"
    }
   },
   "outputs": [],
   "source": [
    "import os\n",
    "os.sys.path.append(os.path.join(os.path.abspath('.'), '..'))"
   ]
  },
  {
   "cell_type": "code",
   "execution_count": 12,
   "metadata": {
    "ExecuteTime": {
     "end_time": "2019-11-07T19:29:56.092403Z",
     "start_time": "2019-11-07T19:29:55.674404Z"
    }
   },
   "outputs": [],
   "source": [
    "import matplotlib.pyplot as plt\n",
    "from mpl_toolkits.axes_grid1 import make_axes_locatable\n",
    "import matplotlib\n",
    "import numpy as np\n",
    "from scipy.spatial import Delaunay"
   ]
  },
  {
   "cell_type": "code",
   "execution_count": 13,
   "metadata": {},
   "outputs": [],
   "source": [
    "matplotlib.rc('font', size=20)"
   ]
  },
  {
   "cell_type": "code",
   "execution_count": 5,
   "metadata": {
    "ExecuteTime": {
     "end_time": "2019-11-07T19:29:59.164405Z",
     "start_time": "2019-11-07T19:29:56.278405Z"
    },
    "scrolled": true
   },
   "outputs": [],
   "source": [
    "from ml.preprocess import PreprocessBatch"
   ]
  },
  {
   "cell_type": "code",
   "execution_count": 6,
   "metadata": {
    "ExecuteTime": {
     "end_time": "2019-11-07T19:29:59.183440Z",
     "start_time": "2019-11-07T19:29:59.165405Z"
    }
   },
   "outputs": [],
   "source": [
    "case_name = 'Rc_1.0_h_20.2_tac_10.0_tel_6.0'\n",
    "\n",
    "path_mesh = {case_name: os.path.join('..', 'data', 'raw', 'mesh', case_name + '.mesh')}\n",
    "path_vtu = {case_name: os.path.join('..', 'data', 'raw', 'vtu', case_name + '.vtu')}\n",
    "\n",
    "features = ['boundary', 'surface', 'edge']"
   ]
  },
  {
   "cell_type": "code",
   "execution_count": 8,
   "metadata": {
    "ExecuteTime": {
     "end_time": "2019-11-07T19:30:00.756918Z",
     "start_time": "2019-11-07T19:30:00.751921Z"
    },
    "scrolled": true
   },
   "outputs": [
    {
     "name": "stdout",
     "output_type": "stream",
     "text": [
      "reading file: (0) Rc_1.0_h_20.2_tac_10.0_tel_6.0\r"
     ]
    },
    {
     "name": "stderr",
     "output_type": "stream",
     "text": [
      "100%|██████████| 1/1 [00:00<00:00, 33.70it/s]\n",
      "100%|██████████| 1/1 [00:00<00:00, 2809.31it/s]"
     ]
    },
    {
     "name": "stdout",
     "output_type": "stream",
     "text": [
      "\n",
      "[INFO] encoding geometry ...\n",
      "[INFO] interpolating features ...\n"
     ]
    },
    {
     "name": "stderr",
     "output_type": "stream",
     "text": [
      "\n",
      "100%|██████████| 1/1 [00:00<00:00, 1104.93it/s]"
     ]
    },
    {
     "name": "stdout",
     "output_type": "stream",
     "text": [
      "[INFO] interpolating solutions ...\n"
     ]
    },
    {
     "name": "stderr",
     "output_type": "stream",
     "text": [
      "\n"
     ]
    },
    {
     "data": {
      "text/plain": [
       "((5582, 23), (1, 512, 64, 23))"
      ]
     },
     "execution_count": 8,
     "metadata": {},
     "output_type": "execute_result"
    }
   ],
   "source": [
    "pp = PreprocessBatch(is_train=True, path_output=(os.path.join('.', )), feature_name=features, grid_dim=(512, 64))\n",
    "pp.populate(case_name, path_mesh, path_vtu)\n",
    "pp.compile(do_standardize=False)\n",
    "\n",
    "pp.x_mesh[case_name].shape, pp.x.shape"
   ]
  },
  {
   "cell_type": "code",
   "execution_count": 7,
   "metadata": {},
   "outputs": [
    {
     "name": "stdout",
     "output_type": "stream",
     "text": [
      "reading file: (0) Rc_1.0_h_20.2_tac_10.0_tel_6.0\r"
     ]
    },
    {
     "name": "stderr",
     "output_type": "stream",
     "text": [
      "100%|██████████| 1/1 [00:00<00:00, 34.83it/s]\n",
      "100%|██████████| 1/1 [00:00<00:00, 1678.39it/s]"
     ]
    },
    {
     "name": "stdout",
     "output_type": "stream",
     "text": [
      "\n",
      "[INFO] encoding geometry ...\n",
      "[INFO] interpolating features ...\n"
     ]
    },
    {
     "name": "stderr",
     "output_type": "stream",
     "text": [
      "\n",
      "100%|██████████| 1/1 [00:00<00:00, 1333.64it/s]"
     ]
    },
    {
     "name": "stdout",
     "output_type": "stream",
     "text": [
      "[INFO] interpolating solutions ...\n"
     ]
    },
    {
     "name": "stderr",
     "output_type": "stream",
     "text": [
      "\n"
     ]
    },
    {
     "data": {
      "text/plain": [
       "((5582, 23), (1, 128, 16, 23))"
      ]
     },
     "execution_count": 7,
     "metadata": {},
     "output_type": "execute_result"
    }
   ],
   "source": [
    "pp_small = PreprocessBatch(is_train=True, path_output=(os.path.join('.', )), feature_name=features, grid_dim=(128, 16))\n",
    "pp_small.populate(case_name, path_mesh, path_vtu)\n",
    "pp_small.compile(do_standardize=False)\n",
    "\n",
    "pp_small.x_mesh[case_name].shape, pp_small.x.shape"
   ]
  },
  {
   "cell_type": "code",
   "execution_count": 9,
   "metadata": {
    "ExecuteTime": {
     "end_time": "2019-11-07T19:32:43.437031Z",
     "start_time": "2019-11-07T19:32:43.433025Z"
    }
   },
   "outputs": [],
   "source": [
    "boundary_idx = [idx for idx in range(0, 10)]\n",
    "surface_idx = [idx for idx in range(10, 13)]\n",
    "edge_idx = [idx for idx in range(13, 23)]"
   ]
  },
  {
   "cell_type": "code",
   "execution_count": 98,
   "metadata": {
    "ExecuteTime": {
     "end_time": "2019-11-07T19:31:05.693364Z",
     "start_time": "2019-11-07T19:31:05.660339Z"
    }
   },
   "outputs": [
    {
     "data": {
      "text/plain": [
       "<scipy.spatial.qhull.Delaunay at 0x7f4b6c8603c8>"
      ]
     },
     "execution_count": 98,
     "metadata": {},
     "output_type": "execute_result"
    }
   ],
   "source": [
    "def make_mesh(mesh_data):\n",
    "    mesh = Delaunay(mesh_data['coord'])\n",
    "    mesh.simplices = np.array(mesh_data['connect'])\n",
    "\n",
    "    return mesh\n",
    "\n",
    "mesh = make_mesh(pp.mesh_data[case_name])\n",
    "mesh"
   ]
  },
  {
   "cell_type": "code",
   "execution_count": 99,
   "metadata": {
    "ExecuteTime": {
     "end_time": "2019-11-07T19:32:08.007321Z",
     "start_time": "2019-11-07T19:32:07.275289Z"
    }
   },
   "outputs": [
    {
     "name": "stderr",
     "output_type": "stream",
     "text": [
      "/home/fghavamian/.virtualenvs/env_ds/lib/python3.6/site-packages/ipykernel_launcher.py:34: UserWarning: This figure includes Axes that are not compatible with tight_layout, so results might be incorrect.\n"
     ]
    },
    {
     "data": {
      "image/png": "[encoded data removed]",
      "text/plain": [
       "<Figure size 1080x864 with 11 Axes>"
      ]
     },
     "metadata": {
      "needs_background": "light"
     },
     "output_type": "display_data"
    }
   ],
   "source": [
    "fig, axs = plt.subplots(2, len(boundary_idx)//2, figsize=(15, 12))\n",
    "axs = [j for i in axs for j in i]\n",
    "\n",
    "for idx, ax in enumerate(axs):\n",
    "    field = pp.x_mesh[case_name].iloc[:, idx]\n",
    "    triangulation = matplotlib.tri.Triangulation(mesh.points[:, 0], mesh.points[:, 1], mesh.simplices)\n",
    "    im = ax.tricontourf(triangulation, field, vmin=0, vmax=1, extent=[0, 16, 0, 46], cmap='gray_r');\n",
    "    \n",
    "    # im = ax.imshow(pp.x[0, :, :, idx], extent=[0, 16, 0, 46], vmin=0, vmax=1, cmap='gray_r')\n",
    "    ax.set_xticks([0, 10])\n",
    "    \n",
    "    if (idx == 4) or (idx == 10):\n",
    "        # divider = make_axes_locatable(ax)\n",
    "        # cax = divider.append_axes(\"right\", size=\"10%\", pad=0.2)\n",
    "        cbar_ax = fig.add_axes([1, 0.3, 0.02, 0.4])\n",
    "        cbar_ax.set_xlabel('$\\mathbf{e}_r$', rotation=0, labelpad=20, fontsize=32)\n",
    "        cbar_ax.xaxis.set_label_position('top') \n",
    "\n",
    "        fig.colorbar(im, cax=cbar_ax, ticks=[0, 0.5, 1.0], boundaries=np.linspace(0, 1))\n",
    "    \n",
    "    ax.set_ylabel('$y~(mm)$', rotation=90, labelpad=20)\n",
    "    ax.set_xlabel('$x~(mm)$', rotation=0, labelpad=20)\n",
    "    \n",
    "    if idx in range(5):\n",
    "        ax.set_xticklabels([])\n",
    "        ax.set_xticks([])\n",
    "        ax.set_xlabel('')\n",
    "        \n",
    "    if (idx in range(1, 5)) or (idx in range(6, 11)):\n",
    "        ax.set_yticklabels([])\n",
    "        ax.set_yticks([])\n",
    "        ax.set_ylabel('')\n",
    "        \n",
    "plt.tight_layout(pad = 1);\n",
    "\n",
    "fig.savefig('./boundary.pdf', fomat='pdf', bbox_inches='tight')"
   ]
  },
  {
   "cell_type": "code",
   "execution_count": 102,
   "metadata": {
    "ExecuteTime": {
     "end_time": "2019-11-07T20:18:08.383738Z",
     "start_time": "2019-11-07T20:18:08.102679Z"
    }
   },
   "outputs": [
    {
     "name": "stdout",
     "output_type": "stream",
     "text": [
      "(5582,) (5582, 2)\n",
      "(5582,) (5582, 2)\n",
      "(5582,) (5582, 2)\n"
     ]
    },
    {
     "name": "stderr",
     "output_type": "stream",
     "text": [
      "/home/fghavamian/.virtualenvs/env_ds/lib/python3.6/site-packages/ipykernel_launcher.py:29: UserWarning: This figure includes Axes that are not compatible with tight_layout, so results might be incorrect.\n"
     ]
    },
    {
     "data": {
      "image/png": "[encoded data removed]",
      "text/plain": [
       "<Figure size 504x432 with 4 Axes>"
      ]
     },
     "metadata": {
      "needs_background": "light"
     },
     "output_type": "display_data"
    }
   ],
   "source": [
    "fig, axs = plt.subplots(1, len(surface_idx), figsize=(7, 6))\n",
    "\n",
    "for idx, ax in enumerate(axs):\n",
    "    field = pp.x_mesh[case_name].iloc[:, surface_idx[idx]]\n",
    "    triangulation = matplotlib.tri.Triangulation(mesh.points[:, 0], mesh.points[:, 1], mesh.simplices)\n",
    "    print(field.shape, mesh.points.shape)\n",
    "    im = ax.tricontourf(triangulation, field, vmin=0, vmax=1, extent=[0, 16, 0, 46], cmap='gray_r');\n",
    "    \n",
    "    # im = ax.imshow(pp.x[0, :, :, surface_idx[idx]], extent=[0, 16, 0, 46], vmin=0, vmax=1, cmap='gray_r')\n",
    "    ax.set_xticks([0, 10])\n",
    "    \n",
    "    ax.set_ylabel('$y~(mm)$', rotation=90, labelpad=20)\n",
    "    ax.set_xlabel('$x~(mm)$', rotation=0, labelpad=20)\n",
    "    \n",
    "    if idx == 2:\n",
    "        # divider = make_axes_locatable(ax)\n",
    "        # cax = divider.append_axes(\"right\", size=\"10%\", pad=0.2)\n",
    "        cbar_ax = fig.add_axes([1.05, 0.2, 0.04, 0.75])\n",
    "        cbar_ax.set_xlabel('$\\mathbf{e}_d$', rotation=0, labelpad=20, fontsize=24)\n",
    "        cbar_ax.xaxis.set_label_position('top') \n",
    "        \n",
    "        plt.colorbar(im, cax=cbar_ax, ticks=[0, 0.5, 1.0], boundaries=np.linspace(0, 1))\n",
    "        \n",
    "    if (idx == 1) or (idx == 2):\n",
    "        ax.set_yticklabels([])\n",
    "        ax.set_yticks([])\n",
    "        ax.set_ylabel('')\n",
    "        \n",
    "plt.tight_layout(pad=1);\n",
    "\n",
    "fig.savefig('./domain.pdf', fomat='pdf', bbox_inches='tight')"
   ]
  },
  {
   "cell_type": "code",
   "execution_count": 101,
   "metadata": {
    "ExecuteTime": {
     "end_time": "2019-11-07T19:33:08.144613Z",
     "start_time": "2019-11-07T19:33:07.338643Z"
    }
   },
   "outputs": [
    {
     "name": "stderr",
     "output_type": "stream",
     "text": [
      "/home/fghavamian/.virtualenvs/env_ds/lib/python3.6/site-packages/ipykernel_launcher.py:33: UserWarning: This figure includes Axes that are not compatible with tight_layout, so results might be incorrect.\n"
     ]
    },
    {
     "data": {
      "image/png": "[encoded data removed]",
      "text/plain": [
       "<Figure size 1080x864 with 11 Axes>"
      ]
     },
     "metadata": {
      "needs_background": "light"
     },
     "output_type": "display_data"
    }
   ],
   "source": [
    "fig, axs = plt.subplots(2, len(edge_idx)//2, figsize=(15, 12))\n",
    "axs = [j for i in axs for j in i]\n",
    "\n",
    "for idx, ax in enumerate(axs):\n",
    "    field = pp.x_mesh[case_name].iloc[:, edge_idx[idx]]\n",
    "    triangulation = matplotlib.tri.Triangulation(mesh.points[:, 0], mesh.points[:, 1], mesh.simplices)\n",
    "    im = ax.tricontourf(triangulation, field, vmin=0, vmax=1, extent=[0, 16, 0, 46], cmap='gray_r');\n",
    "    \n",
    "    # im = ax.imshow(pp.x[0, :, :, edge_idx[idx]], extent=[0, 16, 0, 46], cmap='gray_r', vmin=0, vmax=1)\n",
    "    \n",
    "    ax.set_ylabel('$y~(mm)$', rotation=90, labelpad=20)\n",
    "    ax.set_xlabel('$x~(mm)$', rotation=0, labelpad=20)\n",
    "    \n",
    "    if (idx == 5) or (idx == 11):\n",
    "        divider = make_axes_locatable(ax)\n",
    "        # cax = divider.append_axes(\"right\", size=\"10%\", pad=0.2)\n",
    "        cbar_ax = fig.add_axes([1, 0.3, 0.02, 0.4])\n",
    "        cbar_ax.set_xlabel('$\\mathbf{e}_b$', rotation=0, labelpad=20, fontsize=32)\n",
    "        cbar_ax.xaxis.set_label_position('top') \n",
    "        \n",
    "        plt.colorbar(im, cax=cbar_ax, ticks=[0, 0.5, 1.0], boundaries=np.linspace(0, 1))\n",
    "        \n",
    "    if idx in range(5):\n",
    "        ax.set_xticklabels([])\n",
    "        ax.set_xticks([])\n",
    "        ax.set_xlabel('')\n",
    "        \n",
    "    if (idx in range(1, 5)) or (idx in range(6, 11)):\n",
    "        ax.set_yticklabels([])\n",
    "        ax.set_yticks([])\n",
    "        ax.set_ylabel('')\n",
    "        \n",
    "plt.tight_layout(pad=1);\n",
    "\n",
    "fig.savefig('./edge.pdf', fomat='pdf', bbox_inches='tight')"
   ]
  },
  {
   "cell_type": "markdown",
   "metadata": {},
   "source": [
    "# solutions"
   ]
  },
  {
   "cell_type": "code",
   "execution_count": 103,
   "metadata": {
    "ExecuteTime": {
     "end_time": "2019-10-28T07:08:56.072922Z",
     "start_time": "2019-10-28T07:08:56.044134Z"
    }
   },
   "outputs": [],
   "source": [
    "def make_mesh(vtu):\n",
    "    mesh = Delaunay(vtu['coord'])\n",
    "    mesh.simplices = vtu['connect']\n",
    "    \n",
    "    return mesh\n",
    "\n",
    "mesh = make_mesh(pp.vtu_data[case_name])"
   ]
  },
  {
   "cell_type": "code",
   "execution_count": 104,
   "metadata": {
    "ExecuteTime": {
     "end_time": "2019-11-03T14:04:43.104312Z",
     "start_time": "2019-11-03T14:04:43.099314Z"
    }
   },
   "outputs": [],
   "source": [
    "x_grid = pp.grid['grid'][:, 0].reshape(*pp.grid['dim'])\n",
    "y_grid = pp.grid['grid'][:, 1].reshape(*pp.grid['dim'])\n",
    "\n",
    "x_grid_small = pp_small.grid['grid'][:, 0].reshape(*pp_small.grid['dim'])\n",
    "y_grid_small = pp_small.grid['grid'][:, 1].reshape(*pp_small.grid['dim'])"
   ]
  },
  {
   "cell_type": "code",
   "execution_count": 105,
   "metadata": {
    "ExecuteTime": {
     "end_time": "2019-11-03T14:05:47.658839Z",
     "start_time": "2019-11-03T14:05:47.650804Z"
    }
   },
   "outputs": [],
   "source": [
    "def plot_mesh_value(mesh, values_nodes, ax, vmin, vmax, levels=100, cmap='seismic'):\n",
    "    triangulation = matplotlib.tri.Triangulation(mesh.points[:, 0], mesh.points[:, 1], mesh.simplices)\n",
    "    ax_cont = ax.tricontourf(triangulation, values_nodes, extent=[0, 16, 0, 46], origin='image', \n",
    "                             vmin=vmin, vmax=vmax, levels=levels, cmap=cmap);\n",
    "        \n",
    "    return ax_cont\n",
    "\n",
    "\n",
    "def plot_mesh(mesh, ax):\n",
    "    triangulation = matplotlib.tri.Triangulation(mesh.points[:, 0], mesh.points[:, 1], mesh.simplices)\n",
    "    ax.triplot(triangulation, color='b', linewidth=.1, alpha=1.0);\n",
    "    \n",
    "\n",
    "def plot_grid_value(x_grid, y_grid, grid_values, ax, vmin=None, vmax=None, levels=100, cmap='seismic'):\n",
    "    ax_cont = ax.contourf(x_grid, y_grid, grid_values, vmin=vmin, vmax=vmax, levels=levels, cmap=cmap)\n",
    "    # ax.scatter(x_grid, y_grid, color='r', s=10)\n",
    "    return ax_cont"
   ]
  },
  {
   "cell_type": "code",
   "execution_count": 106,
   "metadata": {
    "ExecuteTime": {
     "end_time": "2019-10-28T07:08:57.029427Z",
     "start_time": "2019-10-28T07:08:57.022397Z"
    }
   },
   "outputs": [
    {
     "data": {
      "text/plain": [
       "['deformations_0',\n",
       " 'deformations_1',\n",
       " 'deformations_2',\n",
       " 'stresses_0',\n",
       " 'stresses_1',\n",
       " 'stresses_2',\n",
       " 'stresses_3',\n",
       " 'currents_0',\n",
       " 'currents_1',\n",
       " 'currents_2',\n",
       " 'fluxes_0',\n",
       " 'fluxes_1',\n",
       " 'fluxes_2']"
      ]
     },
     "execution_count": 106,
     "metadata": {},
     "output_type": "execute_result"
    }
   ],
   "source": [
    "field_names = ['_'.join(str(c) for c in cs) for cs in pp.vtu_data[case_name]['solutions'].columns]\n",
    "field_names"
   ]
  },
  {
   "cell_type": "code",
   "execution_count": 107,
   "metadata": {
    "ExecuteTime": {
     "end_time": "2019-10-28T07:08:57.599501Z",
     "start_time": "2019-10-28T07:08:57.593471Z"
    },
    "scrolled": true
   },
   "outputs": [
    {
     "data": {
      "text/plain": [
       "{'deformations_0': '$\\\\epsilon_{xx}$',\n",
       " 'deformations_1': '$\\\\epsilon_{yy}$',\n",
       " 'deformations_2': '$\\\\epsilon_{xy}$',\n",
       " 'stresses_0': '$\\\\sigma_{xx}$',\n",
       " 'stresses_1': '$\\\\sigma_{yy}$',\n",
       " 'stresses_2': '$\\\\sigma_{zz}$',\n",
       " 'stresses_3': '$\\\\sigma_{xy}$',\n",
       " 'currents_0': '$\\\\phi$',\n",
       " 'currents_1': '$i_x$',\n",
       " 'currents_2': '$i_y$',\n",
       " 'fluxes_0': '$c/c_0$',\n",
       " 'fluxes_1': '$h_x~$',\n",
       " 'fluxes_2': '$h_y~$'}"
      ]
     },
     "execution_count": 107,
     "metadata": {},
     "output_type": "execute_result"
    }
   ],
   "source": [
    "field_new_names = [\n",
    "    '$\\epsilon_{xx}$',\n",
    "    '$\\epsilon_{yy}$',\n",
    "    '$\\epsilon_{xy}$',\n",
    "    '$\\sigma_{xx}$',\n",
    "    '$\\sigma_{yy}$',\n",
    "    '$\\sigma_{zz}$',\n",
    "    '$\\sigma_{xy}$',\n",
    "    '$\\phi$',\n",
    "    '$i_x$',\n",
    "    '$i_y$',\n",
    "    '$c/c_0$',\n",
    "    '$h_x~$',\n",
    "    '$h_y~$',\n",
    "]\n",
    "\n",
    "field_map = dict(zip(field_names, field_new_names))\n",
    "field_map"
   ]
  },
  {
   "cell_type": "code",
   "execution_count": 108,
   "metadata": {},
   "outputs": [],
   "source": [
    "def get_vals(idx, pp0):\n",
    "    field_name = pp0.vtu_data[case_name]['solutions'].columns[idx]\n",
    "    field_name = '_'.join([str(f) for f in field_name])\n",
    "\n",
    "    grid_values = pp0.y[0, :, :, idx]\n",
    "    node_values = pp0.vtu_data[case_name]['solutions'].iloc[:, idx]\n",
    "\n",
    "    if (field_name == 'fluxes_1') or (field_name == 'fluxes_2'):\n",
    "        grid_values *= 10000\n",
    "        node_values *= 10000\n",
    "\n",
    "    vmin = node_values.min()\n",
    "    vmax = node_values.max()\n",
    "    \n",
    "    return field_name, grid_values, node_values, vmin, vmax"
   ]
  },
  {
   "cell_type": "code",
   "execution_count": 112,
   "metadata": {
    "ExecuteTime": {
     "end_time": "2019-10-28T07:09:08.646120Z",
     "start_time": "2019-10-28T07:09:08.108102Z"
    },
    "scrolled": false
   },
   "outputs": [
    {
     "name": "stderr",
     "output_type": "stream",
     "text": [
      "/home/fghavamian/.virtualenvs/env_ds/lib/python3.6/site-packages/ipykernel_launcher.py:36: UserWarning: This figure includes Axes that are not compatible with tight_layout, so results might be incorrect.\n"
     ]
    },
    {
     "data": {
      "image/png": "[encoded data removed]",
      "text/plain": [
       "<Figure size 612x504 with 4 Axes>"
      ]
     },
     "metadata": {
      "needs_background": "light"
     },
     "output_type": "display_data"
    }
   ],
   "source": [
    "idx = 0\n",
    "\n",
    "vals = get_vals(idx, pp)\n",
    "vals_small = get_vals(idx, pp_small)\n",
    "\n",
    "\n",
    "fig, axs = plt.subplots(1, 3, figsize=(8.5, 7))\n",
    "\n",
    "im1 = plot_mesh_value(mesh, node_values, axs[0], vmin=vmin, vmax=vmax, cmap='seismic')\n",
    "im2 = plot_grid_value(x_grid, y_grid, vals[1], axs[2], vmin=vals[-2], vmax=vals[-1], cmap='seismic')\n",
    "im3 = plot_grid_value(x_grid_small, y_grid_small, vals_small[1], axs[1], vmin=vals_small[-2], vmax=vals_small[-1], cmap='seismic')\n",
    "\n",
    "axs[0].set_title('FE nodes')\n",
    "axs[2].set_title('512$\\\\times$64 grids')\n",
    "axs[1].set_title('128$\\\\times$16 grids')\n",
    "\n",
    "axs[1].set_yticks([])\n",
    "axs[1].set_yticklabels([])\n",
    "axs[2].set_yticks([])\n",
    "axs[2].set_yticklabels([])\n",
    "\n",
    "axs[0].set_ylabel('$y~(mm)$', rotation=90, labelpad=20)\n",
    "axs[1].set_xlabel('$x~(mm)$', rotation=0, labelpad=20)\n",
    "axs[2].set_xlabel('$x~(mm)$', rotation=0, labelpad=20)\n",
    "axs[0].set_xlabel('$x~(mm)$', rotation=0, labelpad=20)\n",
    "\n",
    "# cbar_ax = fig.add_axes([1.05, 0.1, 0.04, 0.8])\n",
    "cbar_ax = fig.add_axes([1.05, 0.2, 0.04, 0.7])\n",
    "cbar_ax.set_xlabel(field_map[vals[0]], rotation=0, labelpad=20, fontsize=24)\n",
    "cbar_ax.xaxis.set_label_position('top') \n",
    "\n",
    "ticks = [v for v in np.linspace(vmin, vmax, 5)]\n",
    "    \n",
    "cb = plt.colorbar(im1, cax=cbar_ax, ticks=ticks)\n",
    "\n",
    "plt.tight_layout(pad=1)\n",
    "\n",
    "fig.savefig('./interp_bad_good.pdf', fomat='pdf', bbox_inches='tight')"
   ]
  },
  {
   "cell_type": "code",
   "execution_count": 24,
   "metadata": {},
   "outputs": [],
   "source": [
    "c0 = 1.5e-15"
   ]
  },
  {
   "cell_type": "code",
   "execution_count": 25,
   "metadata": {
    "ExecuteTime": {
     "end_time": "2019-10-18T11:54:06.463329Z",
     "start_time": "2019-10-18T11:54:06.458328Z"
    }
   },
   "outputs": [
    {
     "data": {
      "text/plain": [
       "(1, 512, 64, 13)"
      ]
     },
     "execution_count": 25,
     "metadata": {},
     "output_type": "execute_result"
    }
   ],
   "source": [
    "pp.y.shape"
   ]
  },
  {
   "cell_type": "markdown",
   "metadata": {
    "ExecuteTime": {
     "end_time": "2019-10-18T10:56:41.797488Z",
     "start_time": "2019-10-18T10:56:41.575489Z"
    }
   },
   "source": [
    "# compare two size of inputs"
   ]
  },
  {
   "cell_type": "code",
   "execution_count": 119,
   "metadata": {
    "ExecuteTime": {
     "end_time": "2019-11-03T14:32:09.403997Z",
     "start_time": "2019-11-03T14:31:24.758711Z"
    }
   },
   "outputs": [
    {
     "name": "stdout",
     "output_type": "stream",
     "text": [
      "reading file: (2) Rc_1.0_h_58.0_tac_10.0_tel_11.1\n"
     ]
    },
    {
     "name": "stderr",
     "output_type": "stream",
     "text": [
      "100%|██████████| 3/3 [00:00<00:00, 16.58it/s]\n",
      "100%|██████████| 3/3 [00:00<00:00, 38.88it/s]"
     ]
    },
    {
     "name": "stdout",
     "output_type": "stream",
     "text": [
      "[INFO] encoding geometry ...\n",
      "[INFO] interpolating features ...\n"
     ]
    },
    {
     "name": "stderr",
     "output_type": "stream",
     "text": [
      "\n",
      "100%|██████████| 3/3 [00:00<00:00, 402.74it/s]"
     ]
    },
    {
     "name": "stdout",
     "output_type": "stream",
     "text": [
      "[INFO] interpolating solutions ...\n"
     ]
    },
    {
     "name": "stderr",
     "output_type": "stream",
     "text": [
      "\n"
     ]
    }
   ],
   "source": [
    "case_names = [\n",
    "    'Rc_1.0_h_21.5_tac_10.0_tel_19.7', \n",
    "    'Rc_1.0_h_42.4_tac_10.0_tel_7.0',\n",
    "    'Rc_1.0_h_58.0_tac_10.0_tel_11.1'\n",
    "]\n",
    "\n",
    "\n",
    "path_mesh = {c: os.path.join('..', 'data', 'raw', 'mesh', c + '.mesh') for c in case_names}\n",
    "path_vtu = {c: os.path.join('..', 'data', 'raw', 'vtu', c + '.vtu') for c in case_names}\n",
    "\n",
    "features = ['boundary', 'surface', 'edge']\n",
    "\n",
    "pp = PreprocessBatch(is_train=True, path_output=(os.path.join('.', )), feature_name=features, grid_dim=(512, 64))\n",
    "\n",
    "pp.populate(case_names, path_mesh, path_vtu)\n",
    "\n",
    "pp.compile(do_standardize=False)"
   ]
  },
  {
   "cell_type": "code",
   "execution_count": 120,
   "metadata": {
    "ExecuteTime": {
     "end_time": "2019-11-03T14:33:26.513221Z",
     "start_time": "2019-11-03T14:33:26.507260Z"
    }
   },
   "outputs": [
    {
     "data": {
      "text/plain": [
       "(3, 512, 64, 23)"
      ]
     },
     "execution_count": 120,
     "metadata": {},
     "output_type": "execute_result"
    }
   ],
   "source": [
    "pp.x.shape"
   ]
  },
  {
   "cell_type": "code",
   "execution_count": 121,
   "metadata": {
    "ExecuteTime": {
     "end_time": "2019-11-03T14:33:26.785818Z",
     "start_time": "2019-11-03T14:33:26.778741Z"
    }
   },
   "outputs": [
    {
     "data": {
      "text/plain": [
       "(3, 512, 64, 1)"
      ]
     },
     "execution_count": 121,
     "metadata": {},
     "output_type": "execute_result"
    }
   ],
   "source": [
    "pp.mask.shape"
   ]
  },
  {
   "cell_type": "code",
   "execution_count": 122,
   "metadata": {
    "ExecuteTime": {
     "end_time": "2019-11-03T14:33:27.664455Z",
     "start_time": "2019-11-03T14:33:27.657906Z"
    }
   },
   "outputs": [],
   "source": [
    "x_grid = pp.grid['grid'][:, 0].reshape(*pp.grid['dim'])\n",
    "y_grid = pp.grid['grid'][:, 1].reshape(*pp.grid['dim'])"
   ]
  },
  {
   "cell_type": "code",
   "execution_count": 124,
   "metadata": {
    "ExecuteTime": {
     "end_time": "2019-11-03T14:55:42.554657Z",
     "start_time": "2019-11-03T14:55:41.642424Z"
    }
   },
   "outputs": [
    {
     "name": "stderr",
     "output_type": "stream",
     "text": [
      "/home/fghavamian/.virtualenvs/env_ds/lib/python3.6/site-packages/ipykernel_launcher.py:35: UserWarning: This figure includes Axes that are not compatible with tight_layout, so results might be incorrect.\n"
     ]
    },
    {
     "data": {
      "image/png": "[encoded data removed]",
      "text/plain": [
       "<Figure size 504x432 with 4 Axes>"
      ]
     },
     "metadata": {
      "needs_background": "light"
     },
     "output_type": "display_data"
    }
   ],
   "source": [
    "fidx = -6\n",
    "\n",
    "fig, axs = plt.subplots(1, 3, figsize=(7, 6))\n",
    "\n",
    "vmin = pp.y[0, :, :, fidx].min()\n",
    "vmax = pp.y[0, :, :, fidx].max()\n",
    "\n",
    "im1 = plot_grid_value(x_grid, y_grid, pp.y[0, :, :, fidx], axs[0], cmap='seismic')\n",
    "im2 = plot_grid_value(x_grid, y_grid, pp.y[1, :, :, fidx], axs[1], cmap='seismic')\n",
    "im2 = plot_grid_value(x_grid, y_grid, pp.y[2, :, :, fidx], axs[2], cmap='seismic')\n",
    "\n",
    "\n",
    "axs[0].set_yticklabels([np.ceil(v) for v in np.linspace(0, y_grid.max(), 5)])\n",
    "axs[0].set_yticks([np.ceil(v) for v in np.linspace(0, y_grid.max(), 5)])\n",
    "axs[0].set_ylabel('$y~(mm)$', rotation=90, labelpad=20)\n",
    "axs[0].set_xlabel('$x~(mm)$', rotation=0, labelpad=20)\n",
    "\n",
    "axs[1].set_yticklabels([])\n",
    "axs[1].set_yticks([])\n",
    "axs[1].set_xlabel('$x~(mm)$', rotation=0, labelpad=20)\n",
    "\n",
    "axs[2].set_yticklabels([])\n",
    "axs[2].set_yticks([])\n",
    "axs[2].set_xlabel('$x~(mm)$', rotation=0, labelpad=20)\n",
    "\n",
    "\n",
    "cbar_ax = fig.add_axes([1.05, 0.2, 0.04, 0.7])\n",
    "cbar_ax.set_xlabel('$\\\\phi$', rotation=0, labelpad=20, fontsize=24)\n",
    "cbar_ax.xaxis.set_label_position('top')\n",
    "\n",
    "ticks = [v for v in np.linspace(vmin, vmax, 5)]\n",
    "    \n",
    "plt.colorbar(im1, cax=cbar_ax, ticks=ticks)\n",
    "\n",
    "plt.tight_layout(pad=1)\n",
    "\n",
    "fig.savefig('./stack_sol.pdf', fomat='pdf', bbox_inches='tight')"
   ]
  },
  {
   "cell_type": "code",
   "execution_count": 31,
   "metadata": {
    "ExecuteTime": {
     "end_time": "2019-11-03T14:53:19.895946Z",
     "start_time": "2019-11-03T14:53:19.889939Z"
    }
   },
   "outputs": [
    {
     "data": {
      "text/plain": [
       "(0.0, 29.738405, 0.0, 89.13828)"
      ]
     },
     "execution_count": 31,
     "metadata": {},
     "output_type": "execute_result"
    }
   ],
   "source": [
    "x_grid.min(), x_grid.max(), y_grid.min(), y_grid.max()"
   ]
  },
  {
   "cell_type": "code",
   "execution_count": 125,
   "metadata": {
    "ExecuteTime": {
     "end_time": "2019-11-03T14:56:07.232014Z",
     "start_time": "2019-11-03T14:56:06.089808Z"
    }
   },
   "outputs": [
    {
     "name": "stderr",
     "output_type": "stream",
     "text": [
      "/home/fghavamian/.virtualenvs/env_ds/lib/python3.6/site-packages/ipykernel_launcher.py:30: UserWarning: This figure includes Axes that are not compatible with tight_layout, so results might be incorrect.\n"
     ]
    },
    {
     "data": {
      "image/png": "[encoded data removed]",
      "text/plain": [
       "<Figure size 504x432 with 4 Axes>"
      ]
     },
     "metadata": {
      "needs_background": "light"
     },
     "output_type": "display_data"
    }
   ],
   "source": [
    "fig, axs = plt.subplots(1, 3, figsize=(7, 6))\n",
    "\n",
    "im1 = plot_grid_value(x_grid, y_grid, pp.mask[0, :, :, 0].astype(int), axs[0], vmin=0, vmax=1, cmap='gray_r')\n",
    "im2 = plot_grid_value(x_grid, y_grid, pp.mask[1, :, :, 0].astype(int), axs[1], vmin=0, vmax=1, cmap='gray_r')\n",
    "im3 = plot_grid_value(x_grid, y_grid, pp.mask[2, :, :, 0].astype(int), axs[2], vmin=0, vmax=1, cmap='gray_r')\n",
    "\n",
    "\n",
    "axs[0].set_yticklabels([np.ceil(v) for v in np.linspace(0, y_grid.max(), 5)])\n",
    "axs[0].set_yticks([np.ceil(v) for v in np.linspace(0, y_grid.max(), 5)])\n",
    "axs[0].set_ylabel('$y~(mm)$', rotation=90, labelpad=20)\n",
    "axs[0].set_xlabel('$x~(mm)$', rotation=0, labelpad=20)\n",
    "\n",
    "axs[1].set_yticklabels([])\n",
    "axs[1].set_yticks([])\n",
    "axs[1].set_xlabel('$x~(mm)$', rotation=0, labelpad=20)\n",
    "\n",
    "axs[2].set_yticklabels([])\n",
    "axs[2].set_yticks([])\n",
    "axs[2].set_xlabel('$x~(mm)$', rotation=0, labelpad=20)\n",
    "\n",
    "\n",
    "cbar_ax = fig.add_axes([1.05, 0.2, 0.04, 0.7])\n",
    "cbar_ax.set_xlabel('$mask$', rotation=0, labelpad=20, fontsize=24)\n",
    "cbar_ax.xaxis.set_label_position('top') \n",
    "\n",
    "ticks = [0, 1]\n",
    "    \n",
    "plt.colorbar(im1, cax=cbar_ax, ticks=ticks)\n",
    "\n",
    "plt.tight_layout(pad=1)\n",
    "\n",
    "fig.savefig('./stack_mask.pdf', fomat='pdf', bbox_inches='tight')"
   ]
  },
  {
   "cell_type": "code",
   "execution_count": null,
   "metadata": {
    "ExecuteTime": {
     "end_time": "2019-11-03T14:15:45.312977Z",
     "start_time": "2019-11-03T14:15:45.173051Z"
    }
   },
   "outputs": [],
   "source": []
  },
  {
   "cell_type": "code",
   "execution_count": null,
   "metadata": {},
   "outputs": [],
   "source": []
  }
 ],
 "metadata": {
  "kernelspec": {
   "display_name": "Python 3",
   "language": "python",
   "name": "python3"
  },
  "language_info": {
   "codemirror_mode": {
    "name": "ipython",
    "version": 3
   },
   "file_extension": ".py",
   "mimetype": "text/x-python",
   "name": "python",
   "nbconvert_exporter": "python",
   "pygments_lexer": "ipython3",
   "version": "3.6.9"
  },
  "toc": {
   "base_numbering": 1,
   "nav_menu": {},
   "number_sections": true,
   "sideBar": true,
   "skip_h1_title": false,
   "title_cell": "Table of Contents",
   "title_sidebar": "Contents",
   "toc_cell": false,
   "toc_position": {},
   "toc_section_display": true,
   "toc_window_display": false
  }
 },
 "nbformat": 4,
 "nbformat_minor": 2
}
