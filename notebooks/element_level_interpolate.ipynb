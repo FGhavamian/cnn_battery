{
 "cells": [
  {
   "cell_type": "code",
   "execution_count": 1,
   "metadata": {},
   "outputs": [],
   "source": [
    "import numpy as np"
   ]
  },
  {
   "cell_type": "code",
   "execution_count": 2,
   "metadata": {},
   "outputs": [],
   "source": [
    "nodes = [[0, 0], [1, 0], [0, 1]]\n",
    "\n",
    "def shape_func(coords):\n",
    "    \n",
    "    n_1 = 1 - xi - eta\n",
    "    n_2 = xi\n",
    "    n_3 = eta\n",
    "    n = np.array([[n_1, 0, n_2, 0, n_3, 0], [0, n_1, 0, n_2, 0, n_3]])\n",
    "    \n",
    "    return n"
   ]
  },
  {
   "cell_type": "code",
   "execution_count": 3,
   "metadata": {},
   "outputs": [
    {
     "data": {
      "text/plain": [
       "array([[1, 0, 0, 0, 0, 0],\n",
       "       [0, 1, 0, 0, 0, 0]])"
      ]
     },
     "execution_count": 3,
     "metadata": {},
     "output_type": "execute_result"
    }
   ],
   "source": [
    "shape_func(0, 0)"
   ]
  },
  {
   "cell_type": "code",
   "execution_count": 10,
   "metadata": {},
   "outputs": [
    {
     "data": {
      "text/plain": [
       "array([[0. , 0. , 0.5, 0. , 0.5, 0. ],\n",
       "       [0. , 0. , 0. , 0.5, 0. , 0.5]])"
      ]
     },
     "execution_count": 10,
     "metadata": {},
     "output_type": "execute_result"
    }
   ],
   "source": [
    "def shape_func(coord, el_coords):\n",
    "    a_1 = el_coords[1][0]*el_coords[2][1] - el_coords[2][0]*el_coords[1][1] \n",
    "    a_2 = el_coords[2][0]*el_coords[0][1] - el_coords[0][0]*el_coords[2][1] \n",
    "    a_3 = el_coords[0][0]*el_coords[1][1] - el_coords[1][0]*el_coords[0][1] \n",
    "\n",
    "    b_1 = el_coords[1][1] - el_coords[2][1]\n",
    "    b_2 = el_coords[2][1] - el_coords[0][1]\n",
    "    b_3 = el_coords[0][1] - el_coords[1][1]\n",
    "\n",
    "    c_1 = el_coords[2][0] - el_coords[1][0]\n",
    "    c_2 = el_coords[0][0] - el_coords[2][0]\n",
    "    c_3 = el_coords[1][0] - el_coords[0][0]\n",
    "\n",
    "    delta = (el_coords[0][0]*b_1 + el_coords[1][0]*b_2 + el_coords[2][0]*b_3) / 2\n",
    "    \n",
    "    n_1 = 1/(2*delta) * (a_1 + b_1*coord[0] + c_1*coord[1])\n",
    "    n_2 = 1/(2*delta) * (a_2 + b_2*coord[0] + c_2*coord[1])\n",
    "    n_3 = 1/(2*delta) * (a_3 + b_3*coord[0] + c_3*coord[1])\n",
    "    \n",
    "    n = np.array([\n",
    "        [n_1, 0, n_2, 0, n_3, 0],\n",
    "        [0, n_1, 0, n_2, 0, n_3]\n",
    "    ])\n",
    "    \n",
    "    return n\n",
    "    \n",
    "\n",
    "el_coords = np.array([[0, 0], [1, 0], [0, 1]])\n",
    "x = [1/2, 1/2]\n",
    "\n",
    "shape_func(x, el_coords)"
   ]
  },
  {
   "cell_type": "code",
   "execution_count": 35,
   "metadata": {},
   "outputs": [
    {
     "data": {
      "text/plain": [
       "array([[0.25],\n",
       "       [0.  ]])"
      ]
     },
     "execution_count": 35,
     "metadata": {},
     "output_type": "execute_result"
    }
   ],
   "source": [
    "el_coords = np.array([[10, 0], [15, 4], [5, 12]])\n",
    "x = [15, 2]\n",
    "\n",
    "n = shape_func(x, el_coords)\n",
    "\n",
    "a = np.array([\n",
    "    [1], \n",
    "    [0], \n",
    "    [0], \n",
    "    [0], \n",
    "    [0], \n",
    "    [0]\n",
    "])\n",
    "\n",
    "n.dot(a)\n",
    "# n"
   ]
  },
  {
   "cell_type": "code",
   "execution_count": null,
   "metadata": {},
   "outputs": [],
   "source": []
  },
  {
   "cell_type": "code",
   "execution_count": null,
   "metadata": {},
   "outputs": [],
   "source": []
  }
 ],
 "metadata": {
  "kernelspec": {
   "display_name": "Python 3",
   "language": "python",
   "name": "python3"
  },
  "language_info": {
   "codemirror_mode": {
    "name": "ipython",
    "version": 3
   },
   "file_extension": ".py",
   "mimetype": "text/x-python",
   "name": "python",
   "nbconvert_exporter": "python",
   "pygments_lexer": "ipython3",
   "version": "3.6.8"
  }
 },
 "nbformat": 4,
 "nbformat_minor": 2
}
